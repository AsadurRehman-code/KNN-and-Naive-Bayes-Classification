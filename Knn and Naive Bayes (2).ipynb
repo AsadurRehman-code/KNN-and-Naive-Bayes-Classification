{
 "cells": [
  {
   "cell_type": "code",
   "execution_count": 2,
   "metadata": {
    "collapsed": false
   },
   "outputs": [
   ],
   "source": [
    "#task 1"
   ]
  },
  {
   "cell_type": "code",
   "execution_count": 7,
   "metadata": {
    "collapsed": false,
    "scrolled": true
   },
   "outputs": [
    {
     "name": "stdout",
     "output_type": "stream",
     "text": [
      "[[3.340e+02 1.790e+02 6.875e-01 1.000e+00]\n",
      " [2.340e+02 3.400e+02 7.800e-01 0.000e+00]\n",
      " [1.380e+02 1.430e+02 9.150e-01 1.000e+00]\n",
      " [4.630e+02 2.640e+02 4.803e-01 0.000e+00]\n",
      " [2.830e+02 2.160e+02 5.550e-01 0.000e+00]\n",
      " [8.800e+01 3.600e+01 6.625e-01 0.000e+00]\n",
      " [3.960e+02 1.280e+02 1.975e-01 1.000e+00]\n",
      " [4.700e+02 2.030e+02 9.875e-01 1.000e+00]\n",
      " [3.350e+02 2.710e+02 2.750e-02 0.000e+00]\n",
      " [2.720e+02 3.990e+02 2.150e-01 5.556e-01]\n",
      " [2.370e+02 1.929e+02 4.825e-01 1.000e+00]\n",
      " [3.180e+02 3.110e+02 5.675e-01 1.000e+00]\n",
      " [8.400e+01 1.110e+02 2.725e-01 1.000e+00]\n",
      " [3.110e+02 8.700e+01 4.803e-01 0.000e+00]\n",
      " [1.630e+02 1.030e+02 4.600e-01 0.000e+00]\n",
      " [4.530e+02 2.130e+02 7.750e-02 1.000e+00]\n",
      " [1.760e+02 2.510e+02 7.050e-01 0.000e+00]\n",
      " [4.490e+02 4.900e+01 2.550e-01 1.000e+00]\n",
      " [1.100e+01 1.680e+02 3.175e-01 1.000e+00]]\n",
      "[4.    4.    4.    5.    6.    5.    4.167 4.    3.    3.    4.    1.\n",
      " 2.    7.    5.    1.    6.    4.    7.   ]\n"
     ]
    }
   ],
   "source": [
    "import pandas as pd, scipy, numpy as np\n",
    "from sklearn.impute import SimpleImputer\n",
    "from sklearn.preprocessing import MinMaxScaler\n",
    "\n",
    "ds = pd.read_excel(\"Job_Scheduling.xlsx\")\n",
    "x=ds.iloc[:,0:4].values #for input values\n",
    "np.set_printoptions(precision=3)\n",
    "y=ds.iloc[:,4].values #for output values\n",
    "\n",
    "imp = SimpleImputer(missing_values=np.nan, strategy='mean')\n",
    "\n",
    "\n",
    "X=imp.fit_transform(x)\n",
    "\n",
    "\n",
    "# scaler=MinMaxScaler(feature_range=(0,1))\n",
    "# X=scaler.fit_transform(X)\n",
    "\n",
    "Y=y.reshape(-1,1)\n",
    "Y=imp.fit_transform(Y)\n",
    "Y=Y.reshape(-1)\n",
    "\n",
    "print(X)\n",
    "print(Y)"
   ]
  },
  {
   "cell_type": "code",
   "execution_count": 8,
   "metadata": {
    "collapsed": false
   },
   "outputs": [
   ],
   "source": [
    "from sklearn.preprocessing import LabelEncoder\n",
    "encoder = LabelEncoder()\n",
    "\n",
    "y = encoder.fit_transform(Y)"
   ]
  },
  {
   "cell_type": "code",
   "execution_count": 9,
   "metadata": {
    "collapsed": false
   },
   "outputs": [
   ],
   "source": [
    "from sklearn.model_selection import train_test_split\n",
    "X_train, X_test, y_train, y_test = train_test_split(X, y, test_size= 0.40)"
   ]
  },
  {
   "cell_type": "code",
   "execution_count": 10,
   "metadata": {
    "collapsed": false
   },
   "outputs": [
    {
     "name": "stdout",
     "output_type": "stream",
     "text": [
      "Predicted Value: [3]\n"
     ]
    }
   ],
   "source": [
    "from sklearn.naive_bayes import MultinomialNB\n",
    "model = MultinomialNB()\n",
    "model.fit(X, y)\n",
    "#Predict Output\n",
    "predicted= model.predict([[0,0.2,0.4,0.6]])\n",
    "print (\"Predicted Value:\", predicted)\n",
    "y_pred = model.predict(X_test)"
   ]
  },
  {
   "cell_type": "code",
   "execution_count": 12,
   "metadata": {
    "collapsed": false
   },
   "outputs": [
    {
     "name": "stdout",
     "output_type": "stream",
     "text": [
      "Confusion Matrix:\n",
      "[[0 1 0 0 0]\n",
      " [0 4 0 0 0]\n",
      " [0 1 0 0 0]\n",
      " [0 1 0 0 0]\n",
      " [0 1 0 0 0]]\n",
      "\n",
      "Classification Report:\n",
      "              precision    recall  f1-score   support\n",
      "\n",
      "           2       0.00      0.00      0.00         1\n",
      "           3       0.50      1.00      0.67         4\n",
      "           4       0.00      0.00      0.00         1\n",
      "           5       0.00      0.00      0.00         1\n",
      "           7       0.00      0.00      0.00         1\n",
      "\n",
      "    accuracy                           0.50         8\n",
      "   macro avg       0.10      0.20      0.13         8\n",
      "weighted avg       0.25      0.50      0.33         8\n",
      "\n",
      "Accuracy: 0.5\n"
     ]
    }
   ],
   "source": [
    "from sklearn.metrics import classification_report, confusion_matrix, accuracy_score\n",
    "result = confusion_matrix(y_test, y_pred)\n",
    "print(\"Confusion Matrix:\")\n",
    "print(result)\n",
    "result1 = classification_report(y_test, y_pred)\n",
    "print(\"\\nClassification Report:\",)\n",
    "print (result1)\n",
    "result2 = accuracy_score(y_test,y_pred)\n",
    "print(\"Accuracy:\",result2)"
   ]
  },
  {
   "cell_type": "code",
   "execution_count": 0,
   "metadata": {
    "collapsed": false
   },
   "outputs": [
   ],
   "source": [
   ]
  }
 ],
 "metadata": {
  "kernelspec": {
   "display_name": "Python 3 (system-wide)",
   "language": "python",
   "metadata": {
    "cocalc": {
     "description": "Python 3 programming language",
     "priority": 100,
     "url": "https://www.python.org/"
    }
   },
   "name": "python3",
   "resource_dir": "/ext/jupyter/kernels/python3"
  },
  "language_info": {
   "codemirror_mode": {
    "name": "ipython",
    "version": 3
   },
   "file_extension": ".py",
   "mimetype": "text/x-python",
   "name": "python",
   "nbconvert_exporter": "python",
   "pygments_lexer": "ipython3",
   "version": "3.8.10"
  }
 },
 "nbformat": 4,
 "nbformat_minor": 4
}